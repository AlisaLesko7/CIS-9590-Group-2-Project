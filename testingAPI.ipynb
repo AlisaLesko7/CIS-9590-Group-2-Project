{
 "cells": [
  {
   "cell_type": "code",
   "execution_count": 24,
   "id": "b393ff95",
   "metadata": {},
   "outputs": [],
   "source": [
    "# import python modules\n",
    "import pandas as pd\n",
    "import numpy as np\n",
    "import requests \n",
    "import json"
   ]
  },
  {
   "cell_type": "code",
   "execution_count": 1,
   "id": "3652f509",
   "metadata": {},
   "outputs": [
    {
     "ename": "NameError",
     "evalue": "name 'requests' is not defined",
     "output_type": "error",
     "traceback": [
      "\u001b[0;31m---------------------------------------------------------------------------\u001b[0m",
      "\u001b[0;31mNameError\u001b[0m                                 Traceback (most recent call last)",
      "\u001b[0;32m/var/folders/bn/t08xmmsx04j8r800319xrsmm0000gn/T/ipykernel_53218/2386917491.py\u001b[0m in \u001b[0;36m<module>\u001b[0;34m\u001b[0m\n\u001b[1;32m     12\u001b[0m     }\n\u001b[1;32m     13\u001b[0m \u001b[0;34m\u001b[0m\u001b[0m\n\u001b[0;32m---> 14\u001b[0;31m \u001b[0mresponse\u001b[0m \u001b[0;34m=\u001b[0m \u001b[0mrequests\u001b[0m\u001b[0;34m.\u001b[0m\u001b[0mrequest\u001b[0m\u001b[0;34m(\u001b[0m\u001b[0;34m\"GET\"\u001b[0m\u001b[0;34m,\u001b[0m \u001b[0murl\u001b[0m\u001b[0;34m,\u001b[0m \u001b[0mheaders\u001b[0m\u001b[0;34m=\u001b[0m\u001b[0mheaders\u001b[0m\u001b[0;34m,\u001b[0m \u001b[0mparams\u001b[0m\u001b[0;34m=\u001b[0m\u001b[0mquerystring\u001b[0m\u001b[0;34m)\u001b[0m\u001b[0;34m\u001b[0m\u001b[0;34m\u001b[0m\u001b[0m\n\u001b[0m\u001b[1;32m     15\u001b[0m \u001b[0;34m\u001b[0m\u001b[0m\n\u001b[1;32m     16\u001b[0m \u001b[0mjsonResponse\u001b[0m \u001b[0;34m=\u001b[0m \u001b[0mresponse\u001b[0m\u001b[0;34m.\u001b[0m\u001b[0mjson\u001b[0m\u001b[0;34m(\u001b[0m\u001b[0;34m)\u001b[0m\u001b[0;34m\u001b[0m\u001b[0;34m\u001b[0m\u001b[0m\n",
      "\u001b[0;31mNameError\u001b[0m: name 'requests' is not defined"
     ]
    }
   ],
   "source": [
    "# connect to API that returns catalog of a service in the given country. \n",
    "# Allows to filter by language, genre anad keyword\n",
    "# Output: information about the shows(title, IMDb rating, cast, runtime, poster, etc)\n",
    "\n",
    "url = \"https://streaming-availability.p.rapidapi.com/search/basic\"\n",
    "\n",
    "querystring = {\"country\":\"us\",\"service\":\"netflix\",\"type\":\"movie\",\"genre\":\"18\",\"page\":\"1\",\"output_language\":\"en\",\"language\":\"en\"}\n",
    "\n",
    "headers = {\n",
    "    'x-rapidapi-host': \"streaming-availability.p.rapidapi.com\",\n",
    "    'x-rapidapi-key': \"3b3b89656bmsh4efd7417e6d7429p1caff1jsn2c009362cbe0\"\n",
    "    }\n",
    "\n",
    "response = requests.request(\"GET\", url, headers=headers, params=querystring)\n",
    "\n",
    "jsonResponse = response.json()\n",
    "\n",
    "#print content of the request\n",
    "for key, value in jsonResponse.items():\n",
    "    print(key, value)"
   ]
  },
  {
   "cell_type": "code",
   "execution_count": 34,
   "id": "a89755f0",
   "metadata": {},
   "outputs": [],
   "source": [
    "# print json data to file\n",
    "with open('data.json', 'w') as f:\n",
    "    json.dump(response.json(), f)"
   ]
  },
  {
   "cell_type": "code",
   "execution_count": 36,
   "id": "eef23c9c",
   "metadata": {},
   "outputs": [
    {
     "name": "stdout",
     "output_type": "stream",
     "text": [
      "<class 'pandas.core.frame.DataFrame'>\n",
      "RangeIndex: 8 entries, 0 to 7\n",
      "Data columns (total 2 columns):\n",
      " #   Column       Non-Null Count  Dtype \n",
      "---  ------       --------------  ----- \n",
      " 0   results      8 non-null      object\n",
      " 1   total_pages  8 non-null      int64 \n",
      "dtypes: int64(1), object(1)\n",
      "memory usage: 256.0+ bytes\n"
     ]
    }
   ],
   "source": [
    "#Save json in dataframe and read it \n",
    "df = pd.read_json('data.json')\n",
    "df.info()\n"
   ]
  },
  {
   "cell_type": "code",
   "execution_count": 39,
   "id": "22c93599",
   "metadata": {},
   "outputs": [
    {
     "name": "stdout",
     "output_type": "stream",
     "text": [
      "                                             results  total_pages\n",
      "0  {'imdbID': 'tt9850370', 'tmdbID': '610643', 'i...           68\n",
      "1  {'imdbID': 'tt2385126', 'tmdbID': '412186', 'i...           68\n",
      "2  {'imdbID': 'tt6214928', 'tmdbID': '452507', 'i...           68\n",
      "3  {'imdbID': 'tt7541106', 'tmdbID': '611605', 'i...           68\n",
      "4  {'imdbID': 'tt5616176', 'tmdbID': '710356', 'i...           68\n",
      "5  {'imdbID': 'tt0478087', 'tmdbID': '8065', 'imd...           68\n",
      "6  {'imdbID': 'tt7280898', 'tmdbID': '474354', 'i...           68\n",
      "7  {'imdbID': 'tt2933544', 'tmdbID': '286521', 'i...           68\n"
     ]
    }
   ],
   "source": [
    "#see the content of the whole dataframe\n",
    "print(df)"
   ]
  },
  {
   "cell_type": "code",
   "execution_count": 41,
   "id": "6b56c14f",
   "metadata": {},
   "outputs": [
    {
     "name": "stdout",
     "output_type": "stream",
     "text": [
      "The First Row of the DataFrame is:\n",
      "results        {'imdbID': 'tt9850370', 'tmdbID': '610643', 'i...\n",
      "total_pages                                                   68\n",
      "Name: 0, dtype: object\n"
     ]
    }
   ],
   "source": [
    "row_1=df.iloc[0]\n",
    "\n",
    "print(\"The First Row of the DataFrame is:\")\n",
    "print(row_1)"
   ]
  },
  {
   "cell_type": "code",
   "execution_count": null,
   "id": "65cc76db",
   "metadata": {},
   "outputs": [],
   "source": []
  }
 ],
 "metadata": {
  "kernelspec": {
   "display_name": "Python 3 (ipykernel)",
   "language": "python",
   "name": "python3"
  },
  "language_info": {
   "codemirror_mode": {
    "name": "ipython",
    "version": 3
   },
   "file_extension": ".py",
   "mimetype": "text/x-python",
   "name": "python",
   "nbconvert_exporter": "python",
   "pygments_lexer": "ipython3",
   "version": "3.9.7"
  }
 },
 "nbformat": 4,
 "nbformat_minor": 5
}
