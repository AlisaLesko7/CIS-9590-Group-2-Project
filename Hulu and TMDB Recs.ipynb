{
 "cells": [
  {
   "cell_type": "code",
   "execution_count": 1,
   "id": "c121cd90",
   "metadata": {},
   "outputs": [],
   "source": [
    "%matplotlib inline"
   ]
  },
  {
   "cell_type": "code",
   "execution_count": 2,
   "id": "f36b6153",
   "metadata": {},
   "outputs": [],
   "source": [
    "import daal4py as d4p"
   ]
  },
  {
   "cell_type": "code",
   "execution_count": 3,
   "id": "46266a73",
   "metadata": {},
   "outputs": [],
   "source": [
    "import numpy as np\n",
    "import pandas as pd\n",
    "from collections import Counter\n",
    "import seaborn as sns\n",
    "import matplotlib.pyplot as plt\n",
    "import pandas_profiling as pp"
   ]
  },
  {
   "cell_type": "code",
   "execution_count": 4,
   "id": "30f74472",
   "metadata": {},
   "outputs": [],
   "source": [
    "data = pd.read_csv('hulu_titles.csv')"
   ]
  },
  {
   "cell_type": "code",
   "execution_count": 5,
   "id": "6a683d25",
   "metadata": {},
   "outputs": [],
   "source": [
    "d4p.daalinit()"
   ]
  },
  {
   "cell_type": "code",
   "execution_count": 6,
   "id": "1444fc19",
   "metadata": {},
   "outputs": [
    {
     "data": {
      "text/plain": [
       "['director',\n",
       " 'cast',\n",
       " 'country',\n",
       " 'date_added',\n",
       " 'rating',\n",
       " 'duration',\n",
       " 'description']"
      ]
     },
     "execution_count": 6,
     "metadata": {},
     "output_type": "execute_result"
    }
   ],
   "source": [
    "data.columns[data.isna().any()].tolist() #intermediary steps"
   ]
  },
  {
   "cell_type": "code",
   "execution_count": 7,
   "id": "baf967c5",
   "metadata": {},
   "outputs": [
    {
     "data": {
      "text/plain": [
       "director        99.902376\n",
       "cast           100.000000\n",
       "country         47.282786\n",
       "date_added       0.911162\n",
       "rating          16.921575\n",
       "duration        15.587374\n",
       "description      0.130166\n",
       "dtype: float64"
      ]
     },
     "execution_count": 7,
     "metadata": {},
     "output_type": "execute_result"
    }
   ],
   "source": [
    "data[data.columns[data.isnull().any()]].isnull().sum() * 100 / data.shape[0] #intermediary steps"
   ]
  },
  {
   "cell_type": "code",
   "execution_count": 8,
   "id": "6f8d7e85",
   "metadata": {},
   "outputs": [
    {
     "data": {
      "text/plain": [
       "Index(['show_id', 'type', 'title', 'director', 'cast', 'country', 'date_added',\n",
       "       'release_year', 'rating', 'duration', 'listed_in', 'description'],\n",
       "      dtype='object')"
      ]
     },
     "execution_count": 8,
     "metadata": {},
     "output_type": "execute_result"
    }
   ],
   "source": [
    "data.columns #intermediary steps"
   ]
  },
  {
   "cell_type": "code",
   "execution_count": 9,
   "id": "6da6c6ac",
   "metadata": {},
   "outputs": [
    {
     "data": {
      "text/plain": [
       "Documentaries                          214\n",
       "Action, Adventure, Anime               171\n",
       "Horror, Thriller                        82\n",
       "Action, Adventure, Drama                81\n",
       "Sports                                  74\n",
       "                                      ... \n",
       "Action, Drama, Horror                    1\n",
       "Black Stories, Drama, LGBTQ+             1\n",
       "Comedy, Latino, News                     1\n",
       "Adventure, Drama, History                1\n",
       "Classics, Science Fiction, Thriller      1\n",
       "Name: listed_in, Length: 442, dtype: int64"
      ]
     },
     "execution_count": 9,
     "metadata": {},
     "output_type": "execute_result"
    }
   ],
   "source": [
    "data.listed_in.value_counts() #intermediary steps"
   ]
  },
  {
   "cell_type": "code",
   "execution_count": 10,
   "id": "a9a3d26d",
   "metadata": {},
   "outputs": [
    {
     "data": {
      "text/plain": [
       "[('Drama', 907),\n",
       " ('Comedy', 667),\n",
       " ('Adventure', 556),\n",
       " ('Action', 555),\n",
       " ('Documentaries', 524),\n",
       " ('Anime', 329),\n",
       " ('Horror', 304),\n",
       " ('Reality', 247),\n",
       " ('Thriller', 231),\n",
       " ('Crime', 217),\n",
       " ('International', 216),\n",
       " ('Family', 205),\n",
       " ('Romance', 186),\n",
       " ('Kids', 162),\n",
       " ('Lifestyle & Culture', 155),\n",
       " ('Sports', 139),\n",
       " ('Science Fiction', 122),\n",
       " ('Sitcom', 118),\n",
       " ('Black Stories', 113),\n",
       " ('News', 106),\n",
       " ('Latino', 92),\n",
       " ('Mystery', 81),\n",
       " ('Cooking & Food', 80),\n",
       " ('Music', 79),\n",
       " ('History', 70),\n",
       " ('LGBTQ+', 67),\n",
       " ('Science & Technology', 48),\n",
       " ('Adult Animation', 37),\n",
       " ('Classics', 35),\n",
       " ('Teen', 34),\n",
       " ('Cartoons', 34),\n",
       " ('Game Shows', 18),\n",
       " ('Stand Up', 12),\n",
       " ('Health & Wellness', 8),\n",
       " ('Late Night', 4),\n",
       " ('Sketch Comedy', 3)]"
      ]
     },
     "execution_count": 10,
     "metadata": {},
     "output_type": "execute_result"
    }
   ],
   "source": [
    "categories = \", \".join(data['listed_in']).split(\", \")\n",
    "counter_list = Counter(categories).most_common(50)\n",
    "counter_list #intermediary steps"
   ]
  },
  {
   "cell_type": "code",
   "execution_count": 11,
   "id": "2a3a9ac5",
   "metadata": {},
   "outputs": [
    {
     "data": {
      "text/html": [
       "<div>\n",
       "<style scoped>\n",
       "    .dataframe tbody tr th:only-of-type {\n",
       "        vertical-align: middle;\n",
       "    }\n",
       "\n",
       "    .dataframe tbody tr th {\n",
       "        vertical-align: top;\n",
       "    }\n",
       "\n",
       "    .dataframe thead th {\n",
       "        text-align: right;\n",
       "    }\n",
       "</style>\n",
       "<table border=\"1\" class=\"dataframe\">\n",
       "  <thead>\n",
       "    <tr style=\"text-align: right;\">\n",
       "      <th></th>\n",
       "      <th>Genre</th>\n",
       "      <th>Genre_count</th>\n",
       "    </tr>\n",
       "  </thead>\n",
       "  <tbody>\n",
       "    <tr>\n",
       "      <th>0</th>\n",
       "      <td>Drama</td>\n",
       "      <td>907</td>\n",
       "    </tr>\n",
       "    <tr>\n",
       "      <th>1</th>\n",
       "      <td>Comedy</td>\n",
       "      <td>667</td>\n",
       "    </tr>\n",
       "    <tr>\n",
       "      <th>2</th>\n",
       "      <td>Adventure</td>\n",
       "      <td>556</td>\n",
       "    </tr>\n",
       "    <tr>\n",
       "      <th>3</th>\n",
       "      <td>Action</td>\n",
       "      <td>555</td>\n",
       "    </tr>\n",
       "    <tr>\n",
       "      <th>4</th>\n",
       "      <td>Documentaries</td>\n",
       "      <td>524</td>\n",
       "    </tr>\n",
       "    <tr>\n",
       "      <th>5</th>\n",
       "      <td>Anime</td>\n",
       "      <td>329</td>\n",
       "    </tr>\n",
       "    <tr>\n",
       "      <th>6</th>\n",
       "      <td>Horror</td>\n",
       "      <td>304</td>\n",
       "    </tr>\n",
       "    <tr>\n",
       "      <th>7</th>\n",
       "      <td>Reality</td>\n",
       "      <td>247</td>\n",
       "    </tr>\n",
       "    <tr>\n",
       "      <th>8</th>\n",
       "      <td>Thriller</td>\n",
       "      <td>231</td>\n",
       "    </tr>\n",
       "    <tr>\n",
       "      <th>9</th>\n",
       "      <td>Crime</td>\n",
       "      <td>217</td>\n",
       "    </tr>\n",
       "  </tbody>\n",
       "</table>\n",
       "</div>"
      ],
      "text/plain": [
       "           Genre  Genre_count\n",
       "0          Drama          907\n",
       "1         Comedy          667\n",
       "2      Adventure          556\n",
       "3         Action          555\n",
       "4  Documentaries          524\n",
       "5          Anime          329\n",
       "6         Horror          304\n",
       "7        Reality          247\n",
       "8       Thriller          231\n",
       "9          Crime          217"
      ]
     },
     "execution_count": 11,
     "metadata": {},
     "output_type": "execute_result"
    }
   ],
   "source": [
    "Genres = pd.DataFrame(counter_list, columns=['Genre', 'Genre_count'])\n",
    "top_10_genres = Genres.head(10)\n",
    "top_10_genres #intermediary steps"
   ]
  },
  {
   "cell_type": "code",
   "execution_count": 12,
   "id": "b8d6c05b",
   "metadata": {},
   "outputs": [
    {
     "name": "stdout",
     "output_type": "stream",
     "text": [
      "<class 'pandas.core.frame.DataFrame'>\n",
      "RangeIndex: 3073 entries, 0 to 3072\n",
      "Data columns (total 12 columns):\n",
      " #   Column        Non-Null Count  Dtype  \n",
      "---  ------        --------------  -----  \n",
      " 0   show_id       3073 non-null   object \n",
      " 1   type          3073 non-null   object \n",
      " 2   title         3073 non-null   object \n",
      " 3   director      3 non-null      object \n",
      " 4   cast          0 non-null      float64\n",
      " 5   country       1620 non-null   object \n",
      " 6   date_added    3045 non-null   object \n",
      " 7   release_year  3073 non-null   int64  \n",
      " 8   rating        2553 non-null   object \n",
      " 9   duration      2594 non-null   object \n",
      " 10  listed_in     3073 non-null   object \n",
      " 11  description   3069 non-null   object \n",
      "dtypes: float64(1), int64(1), object(10)\n",
      "memory usage: 288.2+ KB\n"
     ]
    }
   ],
   "source": [
    "data.info() #intermediary steps"
   ]
  },
  {
   "cell_type": "code",
   "execution_count": 13,
   "id": "51526999",
   "metadata": {},
   "outputs": [],
   "source": [
    "from sklearn.feature_extraction.text import TfidfVectorizer\n",
    "tfidf = TfidfVectorizer(stop_words='english') #need to ensure we don't come across stop words"
   ]
  },
  {
   "cell_type": "code",
   "execution_count": 14,
   "id": "7a49d478",
   "metadata": {},
   "outputs": [
    {
     "data": {
      "text/plain": [
       "(3073, 44)"
      ]
     },
     "execution_count": 14,
     "metadata": {},
     "output_type": "execute_result"
    }
   ],
   "source": [
    "tfidf_matrix = tfidf.fit_transform(data['listed_in']) #I chose listed in to recommed similarly genred works\n",
    "tfidf_matrix.shape #the matrix we will use for our recommendations "
   ]
  },
  {
   "cell_type": "code",
   "execution_count": 15,
   "id": "d2920f8e",
   "metadata": {},
   "outputs": [],
   "source": [
    "from sklearn.metrics.pairwise import linear_kernel \n",
    "cosine_sim = linear_kernel(tfidf_matrix, tfidf_matrix) #recommendation algorithm"
   ]
  },
  {
   "cell_type": "code",
   "execution_count": 16,
   "id": "167281d4",
   "metadata": {},
   "outputs": [],
   "source": [
    "indices = pd.Series(data.index, index=data['title']).drop_duplicates() #intermediary steps"
   ]
  },
  {
   "cell_type": "code",
   "execution_count": 17,
   "id": "e02cc015",
   "metadata": {},
   "outputs": [],
   "source": [
    "#here we will build the recommendation function itself. We will call this with an existing title.\n",
    "def recs(title):\n",
    "    idx = indices[title]\n",
    "    scores = list(enumerate(cosine_sim[idx]))\n",
    "    scores = sorted(scores, key=lambda x: x[1], reverse=True)\n",
    "\n",
    "    scores = scores[1:11]\n",
    "\n",
    "    show_indices = [i[0] for i in scores]\n",
    "    return data['title'].iloc[show_indices]"
   ]
  },
  {
   "cell_type": "code",
   "execution_count": 18,
   "id": "89912820",
   "metadata": {},
   "outputs": [
    {
     "data": {
      "text/plain": [
       "123     Species: The Awakening\n",
       "168              Minor Premise\n",
       "884                  Intersect\n",
       "978                       2067\n",
       "1501                  Zoo-Head\n",
       "277                    Gattaca\n",
       "1781                      Devs\n",
       "117                      Signs\n",
       "120                    Species\n",
       "290                   Phase IV\n",
       "Name: title, dtype: object"
      ]
     },
     "execution_count": 18,
     "metadata": {},
     "output_type": "execute_result"
    }
   ],
   "source": [
    "recs('Settlers') #testing"
   ]
  },
  {
   "cell_type": "code",
   "execution_count": 19,
   "id": "425f33aa",
   "metadata": {},
   "outputs": [
    {
     "data": {
      "text/plain": [
       "350           Bachelor in Paradise\n",
       "687                   The Bachelor\n",
       "694        The Farmer Wants A Wife\n",
       "738               Are You the One?\n",
       "750            Married to Medicine\n",
       "753                Shahs of Sunset\n",
       "906               Dress to Impress\n",
       "2843    The Millionaire Matchmaker\n",
       "2970                 Daisy of Love\n",
       "2971                  Rock of Love\n",
       "Name: title, dtype: object"
      ]
     },
     "execution_count": 19,
     "metadata": {},
     "output_type": "execute_result"
    }
   ],
   "source": [
    "recs('The Bachelorette') #testing"
   ]
  },
  {
   "cell_type": "code",
   "execution_count": 20,
   "id": "0186c666",
   "metadata": {},
   "outputs": [
    {
     "data": {
      "text/plain": [
       "1034    Is It Wrong to Try to Pick Up Girls in a Dungeon?\n",
       "1062                               The Promised Neverland\n",
       "1145                                 Lupin the 3rd Part 5\n",
       "1228                             By the Grace of the Gods\n",
       "1235               Wandering Witch: The Journey of Elaina\n",
       "1340                                    Dragon Ball Super\n",
       "1449                                         No Guns Life\n",
       "1451                                           DECA-DENCE\n",
       "1480                         A Certain Scientific Railgun\n",
       "1525                                         Black Butler\n",
       "Name: title, dtype: object"
      ]
     },
     "execution_count": 20,
     "metadata": {},
     "output_type": "execute_result"
    }
   ],
   "source": [
    "recs('Demon Slayer Kimetsu No Yaiba') #testing"
   ]
  },
  {
   "cell_type": "code",
   "execution_count": 21,
   "id": "c8d59d43",
   "metadata": {},
   "outputs": [
    {
     "name": "stdout",
     "output_type": "stream",
     "text": [
      "Please enter a Hulu title: Signs\n"
     ]
    },
    {
     "data": {
      "text/plain": [
       "120                           Species\n",
       "290                          Phase IV\n",
       "310     The X-Files: Fight the Future\n",
       "529                     Let's Be Evil\n",
       "1004                        Possessor\n",
       "1199                          Sputnik\n",
       "1669               The Mandela Effect\n",
       "1739                         The Host\n",
       "1880                        Coherence\n",
       "4                            Settlers\n",
       "Name: title, dtype: object"
      ]
     },
     "execution_count": 21,
     "metadata": {},
     "output_type": "execute_result"
    }
   ],
   "source": [
    "quest = input(\"Please enter a Hulu title: \")\n",
    "try:\n",
    "    recs(quest)\n",
    "except:\n",
    "    print(f' Either {quest} is not on Hulu or is invalid. Please try again or select a different service.')\n",
    "recs(quest)"
   ]
  },
  {
   "cell_type": "markdown",
   "id": "1f988891",
   "metadata": {},
   "source": [
    "### This is where we build an additional recommendation algorithm using two different datasets"
   ]
  },
  {
   "cell_type": "code",
   "execution_count": 25,
   "id": "ed41f47a",
   "metadata": {},
   "outputs": [],
   "source": [
    "new = pd.read_csv('tmdbC.csv')\n",
    "new1 = pd.read_csv('tmdbM.csv') #create the dataframes"
   ]
  },
  {
   "cell_type": "code",
   "execution_count": 26,
   "id": "0c9169e5",
   "metadata": {},
   "outputs": [],
   "source": [
    "new.columns = ['id','title','cast','crew']\n",
    "moredata= new1.merge(new,on='id') #merge the two separate dfs"
   ]
  },
  {
   "cell_type": "code",
   "execution_count": 27,
   "id": "b4ae592a",
   "metadata": {},
   "outputs": [
    {
     "data": {
      "text/html": [
       "<div>\n",
       "<style scoped>\n",
       "    .dataframe tbody tr th:only-of-type {\n",
       "        vertical-align: middle;\n",
       "    }\n",
       "\n",
       "    .dataframe tbody tr th {\n",
       "        vertical-align: top;\n",
       "    }\n",
       "\n",
       "    .dataframe thead th {\n",
       "        text-align: right;\n",
       "    }\n",
       "</style>\n",
       "<table border=\"1\" class=\"dataframe\">\n",
       "  <thead>\n",
       "    <tr style=\"text-align: right;\">\n",
       "      <th></th>\n",
       "      <th>budget</th>\n",
       "      <th>genres</th>\n",
       "      <th>homepage</th>\n",
       "      <th>id</th>\n",
       "      <th>keywords</th>\n",
       "      <th>original_language</th>\n",
       "      <th>original_title</th>\n",
       "      <th>overview</th>\n",
       "      <th>popularity</th>\n",
       "      <th>production_companies</th>\n",
       "      <th>...</th>\n",
       "      <th>runtime</th>\n",
       "      <th>spoken_languages</th>\n",
       "      <th>status</th>\n",
       "      <th>tagline</th>\n",
       "      <th>title_x</th>\n",
       "      <th>vote_average</th>\n",
       "      <th>vote_count</th>\n",
       "      <th>title_y</th>\n",
       "      <th>cast</th>\n",
       "      <th>crew</th>\n",
       "    </tr>\n",
       "  </thead>\n",
       "  <tbody>\n",
       "    <tr>\n",
       "      <th>0</th>\n",
       "      <td>237000000</td>\n",
       "      <td>[{\"id\": 28, \"name\": \"Action\"}, {\"id\": 12, \"nam...</td>\n",
       "      <td>http://www.avatarmovie.com/</td>\n",
       "      <td>19995</td>\n",
       "      <td>[{\"id\": 1463, \"name\": \"culture clash\"}, {\"id\":...</td>\n",
       "      <td>en</td>\n",
       "      <td>Avatar</td>\n",
       "      <td>In the 22nd century, a paraplegic Marine is di...</td>\n",
       "      <td>150.437577</td>\n",
       "      <td>[{\"name\": \"Ingenious Film Partners\", \"id\": 289...</td>\n",
       "      <td>...</td>\n",
       "      <td>162.0</td>\n",
       "      <td>[{\"iso_639_1\": \"en\", \"name\": \"English\"}, {\"iso...</td>\n",
       "      <td>Released</td>\n",
       "      <td>Enter the World of Pandora.</td>\n",
       "      <td>Avatar</td>\n",
       "      <td>7.2</td>\n",
       "      <td>11800</td>\n",
       "      <td>Avatar</td>\n",
       "      <td>[{\"cast_id\": 242, \"character\": \"Jake Sully\", \"...</td>\n",
       "      <td>[{\"credit_id\": \"52fe48009251416c750aca23\", \"de...</td>\n",
       "    </tr>\n",
       "    <tr>\n",
       "      <th>1</th>\n",
       "      <td>300000000</td>\n",
       "      <td>[{\"id\": 12, \"name\": \"Adventure\"}, {\"id\": 14, \"...</td>\n",
       "      <td>http://disney.go.com/disneypictures/pirates/</td>\n",
       "      <td>285</td>\n",
       "      <td>[{\"id\": 270, \"name\": \"ocean\"}, {\"id\": 726, \"na...</td>\n",
       "      <td>en</td>\n",
       "      <td>Pirates of the Caribbean: At World's End</td>\n",
       "      <td>Captain Barbossa, long believed to be dead, ha...</td>\n",
       "      <td>139.082615</td>\n",
       "      <td>[{\"name\": \"Walt Disney Pictures\", \"id\": 2}, {\"...</td>\n",
       "      <td>...</td>\n",
       "      <td>169.0</td>\n",
       "      <td>[{\"iso_639_1\": \"en\", \"name\": \"English\"}]</td>\n",
       "      <td>Released</td>\n",
       "      <td>At the end of the world, the adventure begins.</td>\n",
       "      <td>Pirates of the Caribbean: At World's End</td>\n",
       "      <td>6.9</td>\n",
       "      <td>4500</td>\n",
       "      <td>Pirates of the Caribbean: At World's End</td>\n",
       "      <td>[{\"cast_id\": 4, \"character\": \"Captain Jack Spa...</td>\n",
       "      <td>[{\"credit_id\": \"52fe4232c3a36847f800b579\", \"de...</td>\n",
       "    </tr>\n",
       "    <tr>\n",
       "      <th>2</th>\n",
       "      <td>245000000</td>\n",
       "      <td>[{\"id\": 28, \"name\": \"Action\"}, {\"id\": 12, \"nam...</td>\n",
       "      <td>http://www.sonypictures.com/movies/spectre/</td>\n",
       "      <td>206647</td>\n",
       "      <td>[{\"id\": 470, \"name\": \"spy\"}, {\"id\": 818, \"name...</td>\n",
       "      <td>en</td>\n",
       "      <td>Spectre</td>\n",
       "      <td>A cryptic message from Bond’s past sends him o...</td>\n",
       "      <td>107.376788</td>\n",
       "      <td>[{\"name\": \"Columbia Pictures\", \"id\": 5}, {\"nam...</td>\n",
       "      <td>...</td>\n",
       "      <td>148.0</td>\n",
       "      <td>[{\"iso_639_1\": \"fr\", \"name\": \"Fran\\u00e7ais\"},...</td>\n",
       "      <td>Released</td>\n",
       "      <td>A Plan No One Escapes</td>\n",
       "      <td>Spectre</td>\n",
       "      <td>6.3</td>\n",
       "      <td>4466</td>\n",
       "      <td>Spectre</td>\n",
       "      <td>[{\"cast_id\": 1, \"character\": \"James Bond\", \"cr...</td>\n",
       "      <td>[{\"credit_id\": \"54805967c3a36829b5002c41\", \"de...</td>\n",
       "    </tr>\n",
       "    <tr>\n",
       "      <th>3</th>\n",
       "      <td>250000000</td>\n",
       "      <td>[{\"id\": 28, \"name\": \"Action\"}, {\"id\": 80, \"nam...</td>\n",
       "      <td>http://www.thedarkknightrises.com/</td>\n",
       "      <td>49026</td>\n",
       "      <td>[{\"id\": 849, \"name\": \"dc comics\"}, {\"id\": 853,...</td>\n",
       "      <td>en</td>\n",
       "      <td>The Dark Knight Rises</td>\n",
       "      <td>Following the death of District Attorney Harve...</td>\n",
       "      <td>112.312950</td>\n",
       "      <td>[{\"name\": \"Legendary Pictures\", \"id\": 923}, {\"...</td>\n",
       "      <td>...</td>\n",
       "      <td>165.0</td>\n",
       "      <td>[{\"iso_639_1\": \"en\", \"name\": \"English\"}]</td>\n",
       "      <td>Released</td>\n",
       "      <td>The Legend Ends</td>\n",
       "      <td>The Dark Knight Rises</td>\n",
       "      <td>7.6</td>\n",
       "      <td>9106</td>\n",
       "      <td>The Dark Knight Rises</td>\n",
       "      <td>[{\"cast_id\": 2, \"character\": \"Bruce Wayne / Ba...</td>\n",
       "      <td>[{\"credit_id\": \"52fe4781c3a36847f81398c3\", \"de...</td>\n",
       "    </tr>\n",
       "    <tr>\n",
       "      <th>4</th>\n",
       "      <td>260000000</td>\n",
       "      <td>[{\"id\": 28, \"name\": \"Action\"}, {\"id\": 12, \"nam...</td>\n",
       "      <td>http://movies.disney.com/john-carter</td>\n",
       "      <td>49529</td>\n",
       "      <td>[{\"id\": 818, \"name\": \"based on novel\"}, {\"id\":...</td>\n",
       "      <td>en</td>\n",
       "      <td>John Carter</td>\n",
       "      <td>John Carter is a war-weary, former military ca...</td>\n",
       "      <td>43.926995</td>\n",
       "      <td>[{\"name\": \"Walt Disney Pictures\", \"id\": 2}]</td>\n",
       "      <td>...</td>\n",
       "      <td>132.0</td>\n",
       "      <td>[{\"iso_639_1\": \"en\", \"name\": \"English\"}]</td>\n",
       "      <td>Released</td>\n",
       "      <td>Lost in our world, found in another.</td>\n",
       "      <td>John Carter</td>\n",
       "      <td>6.1</td>\n",
       "      <td>2124</td>\n",
       "      <td>John Carter</td>\n",
       "      <td>[{\"cast_id\": 5, \"character\": \"John Carter\", \"c...</td>\n",
       "      <td>[{\"credit_id\": \"52fe479ac3a36847f813eaa3\", \"de...</td>\n",
       "    </tr>\n",
       "  </tbody>\n",
       "</table>\n",
       "<p>5 rows × 23 columns</p>\n",
       "</div>"
      ],
      "text/plain": [
       "      budget                                             genres  \\\n",
       "0  237000000  [{\"id\": 28, \"name\": \"Action\"}, {\"id\": 12, \"nam...   \n",
       "1  300000000  [{\"id\": 12, \"name\": \"Adventure\"}, {\"id\": 14, \"...   \n",
       "2  245000000  [{\"id\": 28, \"name\": \"Action\"}, {\"id\": 12, \"nam...   \n",
       "3  250000000  [{\"id\": 28, \"name\": \"Action\"}, {\"id\": 80, \"nam...   \n",
       "4  260000000  [{\"id\": 28, \"name\": \"Action\"}, {\"id\": 12, \"nam...   \n",
       "\n",
       "                                       homepage      id  \\\n",
       "0                   http://www.avatarmovie.com/   19995   \n",
       "1  http://disney.go.com/disneypictures/pirates/     285   \n",
       "2   http://www.sonypictures.com/movies/spectre/  206647   \n",
       "3            http://www.thedarkknightrises.com/   49026   \n",
       "4          http://movies.disney.com/john-carter   49529   \n",
       "\n",
       "                                            keywords original_language  \\\n",
       "0  [{\"id\": 1463, \"name\": \"culture clash\"}, {\"id\":...                en   \n",
       "1  [{\"id\": 270, \"name\": \"ocean\"}, {\"id\": 726, \"na...                en   \n",
       "2  [{\"id\": 470, \"name\": \"spy\"}, {\"id\": 818, \"name...                en   \n",
       "3  [{\"id\": 849, \"name\": \"dc comics\"}, {\"id\": 853,...                en   \n",
       "4  [{\"id\": 818, \"name\": \"based on novel\"}, {\"id\":...                en   \n",
       "\n",
       "                             original_title  \\\n",
       "0                                    Avatar   \n",
       "1  Pirates of the Caribbean: At World's End   \n",
       "2                                   Spectre   \n",
       "3                     The Dark Knight Rises   \n",
       "4                               John Carter   \n",
       "\n",
       "                                            overview  popularity  \\\n",
       "0  In the 22nd century, a paraplegic Marine is di...  150.437577   \n",
       "1  Captain Barbossa, long believed to be dead, ha...  139.082615   \n",
       "2  A cryptic message from Bond’s past sends him o...  107.376788   \n",
       "3  Following the death of District Attorney Harve...  112.312950   \n",
       "4  John Carter is a war-weary, former military ca...   43.926995   \n",
       "\n",
       "                                production_companies  ... runtime  \\\n",
       "0  [{\"name\": \"Ingenious Film Partners\", \"id\": 289...  ...   162.0   \n",
       "1  [{\"name\": \"Walt Disney Pictures\", \"id\": 2}, {\"...  ...   169.0   \n",
       "2  [{\"name\": \"Columbia Pictures\", \"id\": 5}, {\"nam...  ...   148.0   \n",
       "3  [{\"name\": \"Legendary Pictures\", \"id\": 923}, {\"...  ...   165.0   \n",
       "4        [{\"name\": \"Walt Disney Pictures\", \"id\": 2}]  ...   132.0   \n",
       "\n",
       "                                    spoken_languages    status  \\\n",
       "0  [{\"iso_639_1\": \"en\", \"name\": \"English\"}, {\"iso...  Released   \n",
       "1           [{\"iso_639_1\": \"en\", \"name\": \"English\"}]  Released   \n",
       "2  [{\"iso_639_1\": \"fr\", \"name\": \"Fran\\u00e7ais\"},...  Released   \n",
       "3           [{\"iso_639_1\": \"en\", \"name\": \"English\"}]  Released   \n",
       "4           [{\"iso_639_1\": \"en\", \"name\": \"English\"}]  Released   \n",
       "\n",
       "                                          tagline  \\\n",
       "0                     Enter the World of Pandora.   \n",
       "1  At the end of the world, the adventure begins.   \n",
       "2                           A Plan No One Escapes   \n",
       "3                                 The Legend Ends   \n",
       "4            Lost in our world, found in another.   \n",
       "\n",
       "                                    title_x vote_average vote_count  \\\n",
       "0                                    Avatar          7.2      11800   \n",
       "1  Pirates of the Caribbean: At World's End          6.9       4500   \n",
       "2                                   Spectre          6.3       4466   \n",
       "3                     The Dark Knight Rises          7.6       9106   \n",
       "4                               John Carter          6.1       2124   \n",
       "\n",
       "                                    title_y  \\\n",
       "0                                    Avatar   \n",
       "1  Pirates of the Caribbean: At World's End   \n",
       "2                                   Spectre   \n",
       "3                     The Dark Knight Rises   \n",
       "4                               John Carter   \n",
       "\n",
       "                                                cast  \\\n",
       "0  [{\"cast_id\": 242, \"character\": \"Jake Sully\", \"...   \n",
       "1  [{\"cast_id\": 4, \"character\": \"Captain Jack Spa...   \n",
       "2  [{\"cast_id\": 1, \"character\": \"James Bond\", \"cr...   \n",
       "3  [{\"cast_id\": 2, \"character\": \"Bruce Wayne / Ba...   \n",
       "4  [{\"cast_id\": 5, \"character\": \"John Carter\", \"c...   \n",
       "\n",
       "                                                crew  \n",
       "0  [{\"credit_id\": \"52fe48009251416c750aca23\", \"de...  \n",
       "1  [{\"credit_id\": \"52fe4232c3a36847f800b579\", \"de...  \n",
       "2  [{\"credit_id\": \"54805967c3a36829b5002c41\", \"de...  \n",
       "3  [{\"credit_id\": \"52fe4781c3a36847f81398c3\", \"de...  \n",
       "4  [{\"credit_id\": \"52fe479ac3a36847f813eaa3\", \"de...  \n",
       "\n",
       "[5 rows x 23 columns]"
      ]
     },
     "execution_count": 27,
     "metadata": {},
     "output_type": "execute_result"
    }
   ],
   "source": [
    "moredata.head()"
   ]
  },
  {
   "cell_type": "code",
   "execution_count": 28,
   "id": "73d0e9c8",
   "metadata": {},
   "outputs": [],
   "source": [
    "moredata['overview'] = moredata['overview'].fillna('') #get rid of nulls"
   ]
  },
  {
   "cell_type": "code",
   "execution_count": 29,
   "id": "6146d75f",
   "metadata": {},
   "outputs": [],
   "source": [
    "new_matrix = tfidf.fit_transform(moredata['overview']) #build the matrix we will use"
   ]
  },
  {
   "cell_type": "code",
   "execution_count": 30,
   "id": "a98be8bd",
   "metadata": {},
   "outputs": [],
   "source": [
    "new_sim = linear_kernel(new_matrix, new_matrix) #create the similarity calculation"
   ]
  },
  {
   "cell_type": "code",
   "execution_count": 34,
   "id": "992a318d",
   "metadata": {},
   "outputs": [],
   "source": [
    "ind = pd.Series(moredata.index, index=moredata['title_y']).drop_duplicates() #get rid of repeating titles"
   ]
  },
  {
   "cell_type": "code",
   "execution_count": 35,
   "id": "31187c1d",
   "metadata": {},
   "outputs": [],
   "source": [
    "#building the new function\n",
    "def improvedrecs(name, new_sim=new_sim):\n",
    "    idx = ind[name]\n",
    "    sim_scores = list(enumerate(new_sim[idx]))\n",
    "\n",
    "    sim_scores = sorted(sim_scores, key=lambda x: x[1], reverse=True)\n",
    "\n",
    "    sim_scores = sim_scores[1:11]\n",
    "\n",
    "    movie_indices = [i[0] for i in sim_scores]\n",
    "\n",
    "    # Return the top 10 most similar movies\n",
    "    return moredata['title_y'].iloc[movie_indices]\n"
   ]
  },
  {
   "cell_type": "code",
   "execution_count": 36,
   "id": "8d4591b3",
   "metadata": {},
   "outputs": [
    {
     "data": {
      "text/plain": [
       "2731     The Godfather: Part II\n",
       "1873                 Blood Ties\n",
       "867     The Godfather: Part III\n",
       "3727                 Easy Money\n",
       "3623                       Made\n",
       "3125                     Eulogy\n",
       "3896                   Sinister\n",
       "4506            The Maid's Room\n",
       "3783                        Joe\n",
       "2244      The Cold Light of Day\n",
       "Name: title_y, dtype: object"
      ]
     },
     "execution_count": 36,
     "metadata": {},
     "output_type": "execute_result"
    }
   ],
   "source": [
    "improvedrecs('The Godfather') #testing"
   ]
  },
  {
   "cell_type": "code",
   "execution_count": 38,
   "id": "f7ee52c2",
   "metadata": {},
   "outputs": [
    {
     "data": {
      "text/plain": [
       "3604                       Apollo 18\n",
       "2130                    The American\n",
       "634                       The Matrix\n",
       "1341            The Inhabited Island\n",
       "529                 Tears of the Sun\n",
       "1610                           Hanna\n",
       "311     The Adventures of Pluto Nash\n",
       "847                         Semi-Pro\n",
       "775                        Supernova\n",
       "2628             Blood and Chocolate\n",
       "Name: title_y, dtype: object"
      ]
     },
     "execution_count": 38,
     "metadata": {},
     "output_type": "execute_result"
    }
   ],
   "source": [
    "improvedrecs('Avatar')"
   ]
  },
  {
   "cell_type": "code",
   "execution_count": null,
   "id": "dc860a2d",
   "metadata": {},
   "outputs": [],
   "source": []
  }
 ],
 "metadata": {
  "kernelspec": {
   "display_name": "Python 3 (ipykernel)",
   "language": "python",
   "name": "python3"
  },
  "language_info": {
   "codemirror_mode": {
    "name": "ipython",
    "version": 3
   },
   "file_extension": ".py",
   "mimetype": "text/x-python",
   "name": "python",
   "nbconvert_exporter": "python",
   "pygments_lexer": "ipython3",
   "version": "3.9.7"
  }
 },
 "nbformat": 4,
 "nbformat_minor": 5
}
